{
  "nbformat": 4,
  "nbformat_minor": 0,
  "metadata": {
    "colab": {
      "name": "Facial expression Recognition.ipynb",
      "provenance": []
    },
    "kernelspec": {
      "name": "python3",
      "display_name": "Python 3"
    },
    "language_info": {
      "name": "python"
    },
    "accelerator": "GPU"
  },
  "cells": [
    {
      "cell_type": "code",
      "metadata": {
        "colab": {
          "base_uri": "https://localhost:8080/"
        },
        "id": "P2TW_KJOjahm",
        "outputId": "9beffa0d-8f06-442b-90df-59d920915378"
      },
      "source": [
        "!git clone https://github.com/muxspace/facial_expressions"
      ],
      "execution_count": null,
      "outputs": [
        {
          "output_type": "stream",
          "text": [
            "Cloning into 'facial_expressions'...\n",
            "remote: Enumerating objects: 14214, done.\u001b[K\n",
            "remote: Total 14214 (delta 0), reused 0 (delta 0), pack-reused 14214\u001b[K\n",
            "Receiving objects: 100% (14214/14214), 239.65 MiB | 42.55 MiB/s, done.\n",
            "Resolving deltas: 100% (223/223), done.\n",
            "Checking out files: 100% (13996/13996), done.\n"
          ],
          "name": "stdout"
        }
      ]
    },
    {
      "cell_type": "code",
      "metadata": {
        "id": "TZxZ9e1jkof7"
      },
      "source": [
        "import csv\n",
        "data={}\n",
        "with open('./facial_expressions/data/legend.csv') as f:\n",
        "    reader=csv.reader(f)\n",
        "    next(reader)#since the file has header to skip the first row next is use to put the pointer to the next line\n",
        "    for row in reader:\n",
        "        key=row[2].lower()#duto to uppercase and lower case same duplicate keys are getting stored\n",
        "        if key in data:\n",
        "            data[key].append(row[1])\n",
        "        else:\n",
        "            data[key]=[row[1]]\n",
        "    "
      ],
      "execution_count": null,
      "outputs": []
    },
    {
      "cell_type": "code",
      "metadata": {
        "colab": {
          "base_uri": "https://localhost:8080/"
        },
        "id": "tlsmYAJilbbV",
        "outputId": "de67d8ed-f1a5-4fa8-bb67-e75421a5f70e"
      },
      "source": [
        "emotion_list=list(data.keys())\n",
        "emotion_list"
      ],
      "execution_count": null,
      "outputs": [
        {
          "output_type": "execute_result",
          "data": {
            "text/plain": [
              "['anger',\n",
              " 'surprise',\n",
              " 'disgust',\n",
              " 'fear',\n",
              " 'neutral',\n",
              " 'happiness',\n",
              " 'sadness',\n",
              " 'contempt']"
            ]
          },
          "metadata": {
            "tags": []
          },
          "execution_count": 4
        }
      ]
    },
    {
      "cell_type": "code",
      "metadata": {
        "id": "DxdgoWq6lgDM"
      },
      "source": [
        "import os\n",
        "os.mkdir('main_data')\n",
        "os.mkdir('main_data/training')\n",
        "os.mkdir('main_data/testing')"
      ],
      "execution_count": null,
      "outputs": []
    },
    {
      "cell_type": "code",
      "metadata": {
        "id": "6w3KftnAlgT3"
      },
      "source": [
        "for emotion in emotion_list:#for adding each expression's directories  \n",
        "    os.mkdir(os.path.join('main_data/training/',emotion))\n",
        "    os.mkdir(os.path.join('main_data/testing/',emotion))"
      ],
      "execution_count": null,
      "outputs": []
    },
    {
      "cell_type": "code",
      "metadata": {
        "id": "YZH2XATGlggY"
      },
      "source": [
        "#filing the directories of emotions using the images directory\n",
        "from shutil import copyfile\n",
        "split_size=0.8\n",
        "for emotion,images in data.items():\n",
        "    train_size=int(split_size*len(images))\n",
        "    train_images=images[:train_size]\n",
        "    test_images=images[train_size:]\n",
        "    for images in train_images:\n",
        "        source=os.path.join('./facial_expressions/images',images)\n",
        "        dest=os.path.join('./main_data/training',emotion,images)\n",
        "        copyfile(source,dest)\n",
        "    for images in test_images:\n",
        "        source=os.path.join('./facial_expressions/images',images)\n",
        "        dest=os.path.join('./main_data/testing',emotion,images)\n",
        "        copyfile(source,dest)"
      ],
      "execution_count": null,
      "outputs": []
    },
    {
      "cell_type": "code",
      "metadata": {
        "id": "i0wqxzyhlgjp"
      },
      "source": [
        "#ImageDataGenerator class use to first convert the image in to array and then one-hot encode it\n",
        "#also we can flip rotate zoom in zoom out\n",
        "import tensorflow as tf\n",
        "from tensorflow.keras.preprocessing.image import ImageDataGenerator\n",
        "from tensorflow.keras.optimizers import Adam\n",
        "from tensorflow.keras.callbacks import EarlyStopping\n",
        "from tensorflow.keras.layers import Conv2D, MaxPooling2D, Dense, Flatten"
      ],
      "execution_count": null,
      "outputs": []
    },
    {
      "cell_type": "code",
      "metadata": {
        "colab": {
          "base_uri": "https://localhost:8080/"
        },
        "id": "bQz3opOdlgmc",
        "outputId": "3ee3da6d-fe1a-441f-cb8a-7994e5351148"
      },
      "source": [
        "model=tf.keras.models.Sequential([\n",
        "    Conv2D(16,(3,3),activation='relu',input_shape=(100,100,3)),\n",
        "    MaxPooling2D(2,2),\n",
        "    Conv2D(32,(3,3),activation='relu'),\n",
        "    MaxPooling2D(2,2),\n",
        "    Conv2D(16,(3,3),activation='relu',input_shape=(100,100,3)),\n",
        "    MaxPooling2D(2,2),\n",
        "    Flatten(),\n",
        "    Dense(1024,activation='relu'),\n",
        "    Dense(8,activation='softmax')\n",
        "])\n",
        "model.compile(optimizer=Adam(lr=0.01),loss='categorical_crossentropy',metrics=['acc'])\n",
        "model.summary()"
      ],
      "execution_count": null,
      "outputs": [
        {
          "output_type": "stream",
          "text": [
            "Model: \"sequential_1\"\n",
            "_________________________________________________________________\n",
            "Layer (type)                 Output Shape              Param #   \n",
            "=================================================================\n",
            "conv2d_3 (Conv2D)            (None, 98, 98, 16)        448       \n",
            "_________________________________________________________________\n",
            "max_pooling2d_3 (MaxPooling2 (None, 49, 49, 16)        0         \n",
            "_________________________________________________________________\n",
            "conv2d_4 (Conv2D)            (None, 47, 47, 32)        4640      \n",
            "_________________________________________________________________\n",
            "max_pooling2d_4 (MaxPooling2 (None, 23, 23, 32)        0         \n",
            "_________________________________________________________________\n",
            "conv2d_5 (Conv2D)            (None, 21, 21, 16)        4624      \n",
            "_________________________________________________________________\n",
            "max_pooling2d_5 (MaxPooling2 (None, 10, 10, 16)        0         \n",
            "_________________________________________________________________\n",
            "flatten_1 (Flatten)          (None, 1600)              0         \n",
            "_________________________________________________________________\n",
            "dense_2 (Dense)              (None, 1024)              1639424   \n",
            "_________________________________________________________________\n",
            "dense_3 (Dense)              (None, 8)                 8200      \n",
            "=================================================================\n",
            "Total params: 1,657,336\n",
            "Trainable params: 1,657,336\n",
            "Non-trainable params: 0\n",
            "_________________________________________________________________\n"
          ],
          "name": "stdout"
        },
        {
          "output_type": "stream",
          "text": [
            "/usr/local/lib/python3.7/dist-packages/tensorflow/python/keras/optimizer_v2/optimizer_v2.py:375: UserWarning: The `lr` argument is deprecated, use `learning_rate` instead.\n",
            "  \"The `lr` argument is deprecated, use `learning_rate` instead.\")\n"
          ],
          "name": "stderr"
        }
      ]
    },
    {
      "cell_type": "code",
      "metadata": {
        "colab": {
          "base_uri": "https://localhost:8080/"
        },
        "id": "AgyBjiQhlgo5",
        "outputId": "3eca3a77-8aea-4043-84ba-5fef3ba17d7a"
      },
      "source": [
        "#training the model\n",
        "train_dir='./main_data/training'\n",
        "test_dir='./main_data/testing'\n",
        "train_gen=ImageDataGenerator(rescale=1.0/255)\n",
        "train_generator=train_gen.flow_from_directory(train_dir,target_size=(100,100),class_mode='categorical',batch_size=128)\n",
        "test_gen=ImageDataGenerator(rescale=1.0/255)\n",
        "test_generator=train_gen.flow_from_directory(test_dir,target_size=(100,100),class_mode='categorical',batch_size=128)"
      ],
      "execution_count": null,
      "outputs": [
        {
          "output_type": "stream",
          "text": [
            "Found 10941 images belonging to 8 classes.\n",
            "Found 2742 images belonging to 8 classes.\n"
          ],
          "name": "stdout"
        }
      ]
    },
    {
      "cell_type": "code",
      "metadata": {
        "id": "W45wNMablgqz"
      },
      "source": [
        "es=EarlyStopping(monitor='val_acc',patience=2,min_delta=0.01)#used to stop the epoch when the model is not improving\n"
      ],
      "execution_count": null,
      "outputs": []
    },
    {
      "cell_type": "code",
      "metadata": {
        "colab": {
          "base_uri": "https://localhost:8080/"
        },
        "id": "eaNPKp0UlgtO",
        "outputId": "330cdb18-216d-4af3-d455-b0efbb58f7db"
      },
      "source": [
        "model.fit_generator(train_generator,\n",
        "                    epochs = 10,\n",
        "                    verbose = 1,\n",
        "                    validation_data = test_generator,\n",
        "                    callbacks = [es])\n",
        "#verbose=1 is used to print the data of training"
      ],
      "execution_count": null,
      "outputs": [
        {
          "output_type": "stream",
          "text": [
            "/usr/local/lib/python3.7/dist-packages/tensorflow/python/keras/engine/training.py:1940: UserWarning: `Model.fit_generator` is deprecated and will be removed in a future version. Please use `Model.fit`, which supports generators.\n",
            "  warnings.warn('`Model.fit_generator` is deprecated and '\n"
          ],
          "name": "stderr"
        },
        {
          "output_type": "stream",
          "text": [
            "Epoch 1/10\n",
            "86/86 [==============================] - 15s 175ms/step - loss: 1.4847 - acc: 0.4796 - val_loss: 1.0255 - val_acc: 0.5492\n",
            "Epoch 2/10\n",
            "86/86 [==============================] - 15s 170ms/step - loss: 0.9371 - acc: 0.6357 - val_loss: 0.9828 - val_acc: 0.6298\n",
            "Epoch 3/10\n",
            "86/86 [==============================] - 14s 169ms/step - loss: 0.7832 - acc: 0.7281 - val_loss: 0.9334 - val_acc: 0.6444\n",
            "Epoch 4/10\n",
            "86/86 [==============================] - 15s 171ms/step - loss: 0.7508 - acc: 0.7378 - val_loss: 0.9230 - val_acc: 0.6579\n",
            "Epoch 5/10\n",
            "86/86 [==============================] - 15s 171ms/step - loss: 0.7327 - acc: 0.7455 - val_loss: 0.9655 - val_acc: 0.6466\n",
            "Epoch 6/10\n",
            "86/86 [==============================] - 15s 172ms/step - loss: 0.7031 - acc: 0.7548 - val_loss: 0.9812 - val_acc: 0.6430\n"
          ],
          "name": "stdout"
        },
        {
          "output_type": "execute_result",
          "data": {
            "text/plain": [
              "<tensorflow.python.keras.callbacks.History at 0x7fa6a81516d0>"
            ]
          },
          "metadata": {
            "tags": []
          },
          "execution_count": 16
        }
      ]
    },
    {
      "cell_type": "code",
      "metadata": {
        "id": "OOwuX_5_lg3j",
        "colab": {
          "base_uri": "https://localhost:8080/"
        },
        "outputId": "5ae35451-dc81-4c3b-fc78-25740069c426"
      },
      "source": [
        "for i in model.predict_classes(test_generator):\n",
        "  print(i,end=' ')"
      ],
      "execution_count": 19,
      "outputs": [
        {
          "output_type": "stream",
          "text": [
            "/usr/local/lib/python3.7/dist-packages/tensorflow/python/keras/engine/sequential.py:455: UserWarning: `model.predict_classes()` is deprecated and will be removed after 2021-01-01. Please use instead:* `np.argmax(model.predict(x), axis=-1)`,   if your model does multi-class classification   (e.g. if it uses a `softmax` last-layer activation).* `(model.predict(x) > 0.5).astype(\"int32\")`,   if your model does binary classification   (e.g. if it uses a `sigmoid` last-layer activation).\n",
            "  warnings.warn('`model.predict_classes()` is deprecated and '\n"
          ],
          "name": "stderr"
        },
        {
          "output_type": "stream",
          "text": [
            "5 4 4 5 4 5 2 5 5 2 4 5 4 5 2 5 4 5 4 5 4 5 5 4 4 5 5 5 4 5 5 2 5 5 5 5 5 4 5 5 4 5 4 5 5 5 4 4 5 4 5 5 5 5 4 4 5 4 4 4 5 4 5 5 5 4 5 2 5 4 5 5 5 4 5 4 2 4 5 4 4 5 5 5 5 2 5 5 5 5 4 6 5 4 2 5 4 4 4 5 5 4 5 5 5 5 4 5 5 4 5 5 5 4 5 4 5 5 5 5 4 5 4 5 5 5 4 5 5 5 5 4 5 5 5 5 5 5 4 4 4 4 5 4 5 5 5 4 5 5 5 5 5 5 2 5 2 5 5 5 5 4 4 5 5 5 4 2 5 4 5 4 5 5 2 5 2 5 5 4 4 5 2 5 5 5 4 5 5 5 5 6 4 5 5 5 4 4 2 5 4 5 5 5 5 5 5 5 5 2 5 4 5 4 5 4 5 5 5 4 5 4 5 5 4 5 2 5 4 4 5 5 5 5 5 4 4 4 5 4 5 4 5 5 5 5 5 5 4 5 4 5 5 5 5 4 5 4 5 5 5 4 5 5 4 5 5 5 4 5 5 5 4 5 5 4 5 5 5 2 4 4 2 4 5 5 5 4 5 5 5 5 5 5 5 4 5 5 5 5 4 5 4 5 4 5 5 5 5 2 4 5 4 4 6 4 5 4 5 5 5 4 4 5 4 4 5 4 4 5 4 4 4 2 5 5 5 4 5 4 4 5 5 4 5 5 4 5 4 4 5 4 5 5 5 4 5 5 2 5 5 5 5 4 4 5 4 5 5 5 5 2 4 5 4 5 5 4 4 4 5 4 5 5 2 4 5 5 4 5 4 5 4 5 5 2 5 5 5 4 5 4 5 2 5 5 4 5 5 4 5 2 5 4 5 4 5 6 4 4 5 5 5 2 4 2 5 2 4 5 4 4 5 5 5 5 5 5 5 5 2 5 5 5 5 4 5 5 4 5 5 5 2 2 4 2 5 5 5 5 5 4 6 4 5 4 5 5 5 4 4 5 2 2 4 5 5 4 2 4 4 4 4 5 4 5 4 5 5 5 4 5 5 5 5 5 5 5 5 4 5 5 5 5 4 5 4 4 5 5 5 6 5 4 5 5 5 5 6 5 4 4 5 4 6 4 4 4 4 5 2 5 5 5 5 4 5 5 4 4 5 5 5 5 5 5 4 4 5 4 5 5 4 4 5 5 4 2 5 4 5 4 5 2 4 5 4 5 4 4 5 4 5 4 5 4 5 5 4 4 5 5 5 4 5 4 5 4 5 5 4 5 5 4 5 4 4 4 5 4 5 5 5 6 5 5 2 4 5 4 5 5 5 5 4 4 5 4 4 4 5 4 5 4 5 4 5 5 5 5 5 4 5 4 4 5 5 5 5 5 4 5 2 4 5 5 4 5 5 5 4 2 5 4 4 4 2 2 5 5 5 4 5 4 5 2 2 4 4 6 4 4 2 4 5 4 5 5 5 4 2 5 5 5 4 5 5 5 5 5 5 5 5 4 5 5 4 2 2 4 5 5 4 4 5 4 5 5 5 4 5 4 5 4 5 4 5 2 5 4 5 5 5 5 5 5 5 4 4 4 4 4 5 4 4 5 4 5 5 2 5 5 5 5 5 4 5 5 5 5 4 5 2 5 5 5 5 4 5 5 5 4 2 2 4 5 5 2 5 4 4 5 5 2 5 5 5 5 5 5 5 4 6 5 4 4 4 4 5 2 5 4 5 5 4 4 2 5 4 4 4 5 5 4 5 5 5 2 4 6 5 5 2 4 4 5 4 5 4 2 4 4 4 5 5 5 5 4 5 5 5 4 5 5 4 5 5 5 5 2 5 5 5 2 4 4 5 2 4 5 4 4 2 5 4 4 4 5 4 5 5 5 5 5 5 5 4 5 4 5 5 2 4 5 2 5 5 4 4 4 4 6 5 4 4 5 5 5 2 5 5 4 5 5 4 5 6 4 5 4 4 5 5 5 5 5 4 5 4 4 5 5 5 5 5 5 5 5 4 5 4 4 5 5 2 5 2 5 2 4 5 2 5 4 5 5 5 5 5 5 5 5 5 4 4 5 5 4 4 4 2 5 4 4 5 5 5 5 5 6 5 5 6 5 2 2 2 5 5 4 5 5 2 4 5 4 4 5 5 2 6 4 4 5 4 4 5 5 2 5 5 4 4 4 4 2 4 4 4 4 5 5 5 5 4 5 5 5 5 5 4 5 4 5 4 2 4 4 5 5 5 4 5 5 5 5 2 4 6 4 5 5 5 5 5 5 5 5 5 5 4 5 5 4 4 4 5 2 5 5 4 5 4 5 5 5 5 5 4 5 4 5 4 4 5 5 5 2 5 5 5 5 5 5 4 5 5 5 5 4 2 4 5 5 4 5 4 5 5 2 6 4 4 5 2 2 5 2 5 4 5 5 5 5 2 5 4 5 5 5 4 4 4 4 4 5 4 5 4 4 5 4 5 4 5 2 6 5 5 4 5 5 5 5 2 5 5 2 5 2 4 5 2 4 5 5 5 4 4 5 5 5 4 5 5 5 5 5 4 5 4 4 4 5 5 5 5 5 5 5 4 4 4 4 5 4 4 5 5 5 5 4 5 5 5 6 4 5 5 5 2 4 5 4 4 4 5 5 4 2 5 5 4 4 4 5 5 4 4 4 4 2 4 4 4 5 5 5 5 4 5 5 5 5 5 5 4 5 4 2 5 2 5 5 5 5 5 4 4 5 5 5 5 4 5 5 2 5 5 5 5 5 2 5 4 5 5 4 2 5 5 5 4 5 5 4 5 5 2 5 5 5 2 5 5 5 2 4 4 5 4 5 4 5 5 5 4 2 5 5 4 2 5 5 5 5 4 5 5 4 4 4 2 2 5 5 4 5 5 5 5 4 5 4 5 4 4 4 5 4 4 5 2 5 4 5 2 5 2 5 2 5 2 5 5 5 5 5 4 4 5 4 5 5 5 5 4 4 5 5 5 4 5 4 5 4 5 4 4 4 4 4 2 5 4 5 5 6 4 5 5 5 4 4 5 2 2 2 5 2 4 5 4 2 5 5 4 5 4 4 6 5 5 5 4 4 5 5 5 6 5 4 4 5 5 4 5 5 5 5 5 5 4 5 4 2 6 5 5 4 4 5 5 5 5 4 5 5 5 5 4 4 5 2 2 2 4 4 5 2 5 5 4 4 4 5 2 5 5 5 5 4 5 5 5 5 2 2 2 5 5 4 5 4 5 5 5 5 5 4 5 5 4 4 4 4 5 5 4 4 5 4 4 4 4 5 5 4 4 5 2 2 2 5 5 5 4 5 2 4 4 5 2 4 4 5 4 5 4 4 5 5 5 5 5 5 5 5 5 5 5 2 5 2 4 5 5 5 5 4 2 2 5 4 5 4 2 4 5 5 2 5 4 4 5 5 5 4 4 5 4 5 5 4 4 5 4 4 4 2 5 4 2 5 4 5 4 2 4 4 5 5 5 5 5 5 4 4 5 4 4 4 4 5 5 5 5 2 5 5 5 5 2 4 5 5 4 4 5 4 5 4 5 4 5 5 5 5 5 4 2 4 5 5 5 5 4 5 5 2 5 2 5 5 4 5 4 4 5 5 5 5 5 5 4 6 5 4 5 5 5 2 5 4 5 5 5 5 5 5 5 5 5 5 4 4 5 4 4 5 2 5 5 5 5 4 4 5 5 5 4 2 4 5 4 4 5 4 4 5 5 5 4 7 2 5 4 5 5 5 4 5 4 5 4 4 5 4 5 5 4 4 5 5 4 4 5 2 5 4 5 5 2 5 5 4 5 5 5 4 4 5 4 5 4 5 5 4 4 4 5 5 5 5 4 4 5 2 5 5 4 5 5 5 5 5 5 4 5 4 5 4 2 5 5 4 5 5 5 4 5 4 4 5 5 4 5 4 5 5 5 4 4 5 5 5 4 5 5 5 5 5 5 5 4 4 5 5 4 5 5 2 5 4 2 4 5 4 2 4 5 5 4 5 4 4 5 4 5 5 4 4 5 5 5 4 4 5 4 4 4 5 2 5 4 4 5 4 5 4 5 5 4 5 4 4 2 5 5 4 5 4 4 5 5 4 4 5 4 5 2 5 5 5 4 4 5 5 5 4 4 4 5 4 2 5 5 4 2 5 5 4 5 5 5 5 5 5 4 4 5 4 4 2 4 5 5 4 5 4 5 4 5 4 5 4 5 4 2 5 5 4 5 4 4 5 5 4 5 4 5 2 5 5 4 4 2 5 4 6 4 4 5 4 4 5 5 5 2 5 5 5 6 5 5 4 5 4 5 5 2 4 5 4 4 4 5 4 4 5 4 4 4 5 5 4 5 4 4 5 5 5 5 5 5 5 5 5 5 5 5 5 4 4 4 5 2 4 5 4 4 5 5 4 5 5 5 5 2 5 4 5 5 4 5 5 4 6 4 5 4 4 4 5 5 5 5 6 5 5 5 4 5 4 5 5 4 4 5 5 7 5 4 2 5 4 6 5 5 5 5 5 5 5 2 2 4 5 4 5 5 2 4 2 5 4 4 4 4 5 2 5 5 5 4 5 4 5 4 5 5 5 4 4 5 5 5 5 4 4 5 4 4 5 5 4 4 5 5 6 5 5 5 5 5 4 5 5 5 5 5 4 4 4 4 5 2 4 4 4 5 5 5 4 4 4 5 5 5 5 4 5 5 4 5 5 5 5 4 5 5 4 4 2 4 5 5 4 5 4 5 5 2 5 5 4 5 4 2 5 2 2 6 4 5 4 4 5 5 5 4 4 4 5 5 5 5 4 2 5 5 5 4 5 5 4 2 5 4 2 4 5 5 4 5 5 5 5 4 5 5 5 5 4 5 4 5 5 5 5 4 5 5 5 4 5 4 4 2 4 5 5 5 5 5 4 5 4 5 5 5 5 5 5 2 5 5 4 5 5 5 4 4 5 4 5 4 4 5 5 5 4 4 5 5 4 4 5 5 4 4 5 5 4 2 5 5 5 5 4 5 4 4 5 4 5 5 4 2 5 6 5 5 4 4 5 5 2 5 4 4 5 4 5 5 5 4 2 5 4 4 5 5 5 4 5 4 4 4 5 6 5 4 4 5 2 5 4 5 5 5 5 5 2 5 4 4 5 5 5 5 5 5 4 5 5 4 5 4 4 5 4 4 5 4 5 4 2 5 5 5 4 5 5 5 5 4 4 5 5 5 2 5 5 5 5 5 5 4 4 4 4 2 4 5 5 5 5 5 4 5 5 5 4 4 5 4 4 5 5 4 4 4 5 4 5 5 5 5 5 4 4 4 5 5 5 5 4 4 4 4 5 5 4 2 4 4 4 5 5 4 5 4 4 2 5 5 5 4 4 4 5 5 5 4 5 4 4 5 5 5 5 5 6 5 5 4 4 2 5 2 4 4 5 5 5 5 4 5 4 2 4 5 5 5 4 4 4 5 5 4 5 6 5 5 5 5 5 4 4 4 4 5 4 5 4 5 5 5 6 5 5 4 4 4 4 5 5 5 5 5 4 4 4 5 5 5 5 4 4 4 5 5 5 4 5 4 5 4 5 5 5 5 4 4 5 4 5 4 2 5 4 5 5 4 4 5 5 5 5 4 4 5 4 2 5 5 5 5 2 5 5 4 4 5 5 5 4 5 5 4 5 4 4 5 5 4 4 5 4 2 4 5 5 4 5 5 2 5 5 5 5 5 4 5 5 5 5 5 5 5 5 6 5 5 4 5 5 5 2 6 4 2 5 5 4 4 5 4 5 5 4 5 5 4 5 5 4 4 5 5 4 2 5 5 5 2 5 5 2 5 5 5 4 5 4 5 5 5 5 5 5 4 6 5 2 4 6 4 5 5 5 5 4 5 5 5 5 5 2 5 4 5 5 2 5 5 5 5 2 4 4 5 5 2 5 4 5 5 4 4 5 4 4 5 5 4 5 4 5 5 5 5 4 4 2 5 5 5 5 4 2 4 5 5 5 5 4 5 5 5 4 2 2 5 2 5 4 5 4 4 5 5 5 4 5 5 2 5 4 5 5 2 5 5 5 5 4 5 5 4 5 5 5 4 5 5 5 5 5 4 4 5 4 5 6 5 2 6 4 5 2 "
          ],
          "name": "stdout"
        }
      ]
    }
  ]
}